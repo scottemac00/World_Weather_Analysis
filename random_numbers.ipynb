{
 "cells": [
  {
   "cell_type": "code",
   "execution_count": 2,
   "id": "d94903f1",
   "metadata": {},
   "outputs": [],
   "source": [
    "# Import the random module\n",
    "import random"
   ]
  },
  {
   "cell_type": "code",
   "execution_count": 3,
   "id": "5c5cd025",
   "metadata": {},
   "outputs": [
    {
     "data": {
      "text/plain": [
       "-79"
      ]
     },
     "execution_count": 3,
     "metadata": {},
     "output_type": "execute_result"
    }
   ],
   "source": [
    "# .randint() returns a single integer between the values input\n",
    "random.randint(-90,90)"
   ]
  },
  {
   "cell_type": "code",
   "execution_count": 4,
   "id": "628465e5",
   "metadata": {},
   "outputs": [
    {
     "data": {
      "text/plain": [
       "0.9226767046416985"
      ]
     },
     "execution_count": 4,
     "metadata": {},
     "output_type": "execute_result"
    }
   ],
   "source": [
    "# .random() returns a single floating-point decimal number between 0 and 1.0\n",
    "random.random()"
   ]
  },
  {
   "cell_type": "code",
   "execution_count": 5,
   "id": "cae4ab1e",
   "metadata": {},
   "outputs": [
    {
     "data": {
      "text/plain": [
       "35.09646168233085"
      ]
     },
     "execution_count": 5,
     "metadata": {},
     "output_type": "execute_result"
    }
   ],
   "source": [
    "random_number = random.randint(-90,89) + random.random()\n",
    "random_number"
   ]
  },
  {
   "cell_type": "code",
   "execution_count": 11,
   "id": "f11e3981",
   "metadata": {},
   "outputs": [
    {
     "data": {
      "text/plain": [
       "[60.2191681669274,\n",
       " 4.937985012877824,\n",
       " -22.019649080343218,\n",
       " 7.392190576453949,\n",
       " 49.72521944730403,\n",
       " 30.424229575102647,\n",
       " 25.75572723338459,\n",
       " -57.519740005005175,\n",
       " 18.435021297595018,\n",
       " -21.71831930276504]"
      ]
     },
     "execution_count": 11,
     "metadata": {},
     "output_type": "execute_result"
    }
   ],
   "source": [
    "x = 1\n",
    "latitudes = []\n",
    "while x < 11:\n",
    "    random_lat = random.randint(-90,89) + random.random()\n",
    "    latitudes.append(random_lat)\n",
    "    x+=1\n",
    "latitudes  "
   ]
  },
  {
   "cell_type": "code",
   "execution_count": 12,
   "id": "3790eb69",
   "metadata": {},
   "outputs": [
    {
     "data": {
      "text/plain": [
       "56"
      ]
     },
     "execution_count": 12,
     "metadata": {},
     "output_type": "execute_result"
    }
   ],
   "source": [
    "# returns a random number between the entered values where the step is the difference between\n",
    "# each number in the sequence\n",
    "random.randrange(-90, 90, step=1)"
   ]
  },
  {
   "cell_type": "code",
   "execution_count": 13,
   "id": "96ea3d71",
   "metadata": {},
   "outputs": [
    {
     "data": {
      "text/plain": [
       "-12"
      ]
     },
     "execution_count": 13,
     "metadata": {},
     "output_type": "execute_result"
    }
   ],
   "source": [
    "random.randrange(-90, 90, step=3)"
   ]
  },
  {
   "cell_type": "code",
   "execution_count": 14,
   "id": "8937ac63",
   "metadata": {},
   "outputs": [
    {
     "data": {
      "text/plain": [
       "-52.133678248844795"
      ]
     },
     "execution_count": 14,
     "metadata": {},
     "output_type": "execute_result"
    }
   ],
   "source": [
    "# .uniform() returns a floating-point decimal number\n",
    "random.uniform(-90,90)"
   ]
  },
  {
   "cell_type": "code",
   "execution_count": null,
   "id": "52a4b560",
   "metadata": {},
   "outputs": [],
   "source": [
    "# table that describes these functions w/ their limitations in mod 6.1.4"
   ]
  },
  {
   "cell_type": "code",
   "execution_count": 15,
   "id": "118d9468",
   "metadata": {},
   "outputs": [],
   "source": [
    "# Import the NumPy module\n",
    "import numpy as np"
   ]
  },
  {
   "cell_type": "code",
   "execution_count": 16,
   "id": "80943080",
   "metadata": {},
   "outputs": [
    {
     "data": {
      "text/plain": [
       "-61.09672090036673"
      ]
     },
     "execution_count": 16,
     "metadata": {},
     "output_type": "execute_result"
    }
   ],
   "source": [
    "# generates a floating-point decimal number between the values\n",
    "# Also as np.random.uniform(low=-90, high=90)\n",
    "np.random.uniform(-90.000, 90.000)"
   ]
  },
  {
   "cell_type": "code",
   "execution_count": 27,
   "id": "fc29aafe",
   "metadata": {},
   "outputs": [
    {
     "data": {
      "text/plain": [
       "array([ 75.23617402, -25.72091738,  43.17651563, -17.42839131,\n",
       "        -6.8799496 , -10.03220324,  19.8869875 ,  87.39875347,\n",
       "       -19.54355058, -76.42974666, -79.19369333,  34.77962013,\n",
       "        65.99503435, -30.68113721, -50.06724755,  63.33119312,\n",
       "       -73.62429369, -29.05058639, -83.61376144, -63.51781855,\n",
       "       -62.34999384,  75.24936486, -47.81613597,  13.04560425,\n",
       "        59.03095786,  63.68401133,  -3.90234728,  81.21790314,\n",
       "        32.27285273, -19.87885915,  44.94139483, -66.85888667,\n",
       "        -0.67160254,  18.71195038, -60.73896891,  47.75020557,\n",
       "         6.47002667,   9.72107263,  18.98542999,  72.55174028,\n",
       "        58.83300859, -13.42827611,   7.97814937, -23.10750041,\n",
       "       -50.61508732,  13.28137731,  85.45575864, -84.9610107 ,\n",
       "       -46.93315415, -64.76386208])"
      ]
     },
     "execution_count": 27,
     "metadata": {},
     "output_type": "execute_result"
    }
   ],
   "source": [
    "# add the size parameter returns a set that equals any whole number (as input)\n",
    "np.random.uniform(-90.000, 90.000, size=50)"
   ]
  },
  {
   "cell_type": "code",
   "execution_count": 19,
   "id": "a7fadc28",
   "metadata": {},
   "outputs": [],
   "source": [
    "# Import timeit - tests how long a piece of code or function takes to run\n",
    "import timeit"
   ]
  },
  {
   "cell_type": "code",
   "execution_count": 20,
   "id": "d5b08e60",
   "metadata": {},
   "outputs": [
    {
     "name": "stdout",
     "output_type": "stream",
     "text": [
      "8.23 µs ± 220 ns per loop (mean ± std. dev. of 7 runs, 100000 loops each)\n"
     ]
    }
   ],
   "source": [
    "# Output of time it takes to run this code depends on the processing speed and RAM of computer\n",
    "%timeit np.random.uniform(-90.000, 90.000, size=1500)"
   ]
  },
  {
   "cell_type": "code",
   "execution_count": 26,
   "id": "7b4558ad",
   "metadata": {},
   "outputs": [
    {
     "name": "stdout",
     "output_type": "stream",
     "text": [
      "10.6 ns ± 0.0952 ns per loop (mean ± std. dev. of 7 runs, 100000000 loops each)\n"
     ]
    }
   ],
   "source": [
    "latitudes = []\n",
    "random_lat = np.random.uniform(-90.000, 90.000, size=1500)\n",
    "latitudes.append(random_lat)\n",
    "# Call the function with 1500.\n",
    "%timeit latitudes"
   ]
  },
  {
   "cell_type": "code",
   "execution_count": null,
   "id": "ed05a615",
   "metadata": {},
   "outputs": [],
   "source": []
  }
 ],
 "metadata": {
  "kernelspec": {
   "display_name": "PythonData",
   "language": "python",
   "name": "pythondata"
  },
  "language_info": {
   "codemirror_mode": {
    "name": "ipython",
    "version": 3
   },
   "file_extension": ".py",
   "mimetype": "text/x-python",
   "name": "python",
   "nbconvert_exporter": "python",
   "pygments_lexer": "ipython3",
   "version": "3.7.13"
  }
 },
 "nbformat": 4,
 "nbformat_minor": 5
}

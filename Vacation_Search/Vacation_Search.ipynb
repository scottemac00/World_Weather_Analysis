{
 "cells": [
  {
   "cell_type": "markdown",
   "metadata": {},
   "source": [
    "# Deliverable 2. Create a Customer Travel Destinations Map.\n",
    "----\n",
    "1. Create a folder called `Vacation_Search` to save all the files related with this deliverable.\n",
    "\n",
    "2. Download the `Vacation_Search_starter_code.ipynb` Jupyter notebook,save it into your `Vacation_Search folder`, and rename it as `Vacation_Search.ipynb`.\n",
    "\n",
    "3. In the `Vacation_Search.ipynb` file, ensure that the dependencies and the Google API key is imported correctly.\n",
    "\n",
    "4. From the `Weather_Database` folder you created in the \"Deliverable 1,\" import the `WeatherPy_Database.csv` file as a Pandas DataFrame named `city_data_df`.\n",
    "\n",
    "5. Write two input statements that prompt the user to enter their minimum and maximum temperature criteria for their vacation.\n",
    "\n",
    "6. Create a new Pandas DataFrame by using the `loc` Pandas method to filter the `city_data_df` DataFrame for temperature criteria  collected. Name the DataFrame as `preferred_cities_df`.\n",
    "\n",
    "7. Create a new Pandas DataFrame named `clean_travel_cities` by using the Pandas `dropna` function on the `preferred_cities_df` to drop any empty rows.\n",
    "\n",
    "8. Use the `copy` Pandas function to create a new DataFrame, called `hotel_df`, by copying the following columns from the `clean_travel_cities` DataFrame: \"City\", \"Country\", \"Max Temp\", \"Current Description\", \"Lat\", \"Lng\".\n",
    "\n",
    "9. Add a new empty column named `Hotel Name` to the `hotel_df` DataFrame.\n",
    "\n",
    "10. Review the hotel search parameters provided. These parameters are the same we used in this module; you'll use them to search for a hotel for each city.\n",
    "\n",
    "11. Use a for loop to iterate through the `hotel_df` DataFrame, retrieve the latitude and longitude of each city to find the nearest hotel based on the search parameters provided, then add the hotel name to the `hotel_df` DataFrame. If a hotel isn't found, skip to the next city.\n",
    "\n",
    "12. Drop any rows in the `hotel_df` DataFrame where a hotel name is not found and store the resulting data into a new DataFrame named `clean_hotel_df`.\n",
    "\n",
    "13. Create an CSV file to store the `clean_hotel_df` DataFrame as `WeatherPy_vacation.csv` in the Vacation_Search folder.\n",
    "\n",
    "14. Review the formatting template provided that you'll use to add an information box to each marker in the map. In the pop-up for each city you'll add:\n",
    "\n",
    "    1. The city name.\n",
    "\n",
    "    2. The country code.\n",
    "\n",
    "    3. The weather description and maximum temperature for the city.\n",
    "\n",
    "15. Review the provided list comprehension code to retrieve the city data from each row, which will then be added to the formatting template and saved in the `hotel_info` list.\n",
    "\n",
    "16. Use the provided code snippet to retrieve the latitude and longitude from each row and store them in a new DataFrame called `locations`.\n",
    "\n",
    "17. Refactor your previous marker layer map code to create a marker layer map that will have pop-up markers for each city on the map.\n",
    "\n",
    "18. Take a screenshot of your map and save it to the `Vacation_Search` folder as `WeatherPy_vacation_map.png`.\n",
    "---"
   ]
  },
  {
   "cell_type": "markdown",
   "metadata": {},
   "source": [
    "## Ensure that the dependencies and the Google API key is imported correctly."
   ]
  },
  {
   "cell_type": "code",
   "execution_count": 1,
   "metadata": {},
   "outputs": [],
   "source": [
    "# Dependencies and Setup\n",
    "import pandas as pd\n",
    "import requests\n",
    "import gmaps\n",
    "\n",
    "# Import Google API key\n",
    "from vacayconfig import g_key\n",
    "\n",
    "# Configure gmaps\n",
    "gmaps.configure(api_key=g_key)"
   ]
  },
  {
   "cell_type": "markdown",
   "metadata": {},
   "source": [
    "## From the `Weather_Database` folder you created in the \"Deliverable 1,\" import the `WeatherPy_Database.csv` file as a Pandas DataFrame."
   ]
  },
  {
   "cell_type": "code",
   "execution_count": 7,
   "metadata": {},
   "outputs": [
    {
     "data": {
      "text/html": [
       "<div>\n",
       "<style scoped>\n",
       "    .dataframe tbody tr th:only-of-type {\n",
       "        vertical-align: middle;\n",
       "    }\n",
       "\n",
       "    .dataframe tbody tr th {\n",
       "        vertical-align: top;\n",
       "    }\n",
       "\n",
       "    .dataframe thead th {\n",
       "        text-align: right;\n",
       "    }\n",
       "</style>\n",
       "<table border=\"1\" class=\"dataframe\">\n",
       "  <thead>\n",
       "    <tr style=\"text-align: right;\">\n",
       "      <th></th>\n",
       "      <th>City_ID</th>\n",
       "      <th>City</th>\n",
       "      <th>Country</th>\n",
       "      <th>Lat</th>\n",
       "      <th>Lng</th>\n",
       "      <th>Max Temp</th>\n",
       "      <th>Humidity</th>\n",
       "      <th>Cloudiness</th>\n",
       "      <th>Wind Speed</th>\n",
       "      <th>Current Description</th>\n",
       "    </tr>\n",
       "  </thead>\n",
       "  <tbody>\n",
       "    <tr>\n",
       "      <th>0</th>\n",
       "      <td>0</td>\n",
       "      <td>Cape Town</td>\n",
       "      <td>ZA</td>\n",
       "      <td>-33.9258</td>\n",
       "      <td>18.4232</td>\n",
       "      <td>62.28</td>\n",
       "      <td>73</td>\n",
       "      <td>94</td>\n",
       "      <td>8.01</td>\n",
       "      <td>overcast clouds</td>\n",
       "    </tr>\n",
       "    <tr>\n",
       "      <th>1</th>\n",
       "      <td>1</td>\n",
       "      <td>Havre-Saint-Pierre</td>\n",
       "      <td>CA</td>\n",
       "      <td>50.2334</td>\n",
       "      <td>-63.5986</td>\n",
       "      <td>26.96</td>\n",
       "      <td>80</td>\n",
       "      <td>100</td>\n",
       "      <td>11.50</td>\n",
       "      <td>overcast clouds</td>\n",
       "    </tr>\n",
       "    <tr>\n",
       "      <th>2</th>\n",
       "      <td>2</td>\n",
       "      <td>Saint-Pierre</td>\n",
       "      <td>RE</td>\n",
       "      <td>-21.3393</td>\n",
       "      <td>55.4781</td>\n",
       "      <td>71.28</td>\n",
       "      <td>88</td>\n",
       "      <td>100</td>\n",
       "      <td>18.41</td>\n",
       "      <td>overcast clouds</td>\n",
       "    </tr>\n",
       "    <tr>\n",
       "      <th>3</th>\n",
       "      <td>3</td>\n",
       "      <td>Kumla</td>\n",
       "      <td>SE</td>\n",
       "      <td>59.1277</td>\n",
       "      <td>15.1434</td>\n",
       "      <td>45.00</td>\n",
       "      <td>100</td>\n",
       "      <td>100</td>\n",
       "      <td>3.44</td>\n",
       "      <td>fog</td>\n",
       "    </tr>\n",
       "    <tr>\n",
       "      <th>4</th>\n",
       "      <td>4</td>\n",
       "      <td>Hilo</td>\n",
       "      <td>US</td>\n",
       "      <td>19.7297</td>\n",
       "      <td>-155.0900</td>\n",
       "      <td>80.33</td>\n",
       "      <td>71</td>\n",
       "      <td>20</td>\n",
       "      <td>6.91</td>\n",
       "      <td>few clouds</td>\n",
       "    </tr>\n",
       "  </tbody>\n",
       "</table>\n",
       "</div>"
      ],
      "text/plain": [
       "   City_ID                City Country      Lat       Lng  Max Temp  Humidity  \\\n",
       "0        0           Cape Town      ZA -33.9258   18.4232     62.28        73   \n",
       "1        1  Havre-Saint-Pierre      CA  50.2334  -63.5986     26.96        80   \n",
       "2        2        Saint-Pierre      RE -21.3393   55.4781     71.28        88   \n",
       "3        3               Kumla      SE  59.1277   15.1434     45.00       100   \n",
       "4        4                Hilo      US  19.7297 -155.0900     80.33        71   \n",
       "\n",
       "   Cloudiness  Wind Speed Current Description  \n",
       "0          94        8.01     overcast clouds  \n",
       "1         100       11.50     overcast clouds  \n",
       "2         100       18.41     overcast clouds  \n",
       "3         100        3.44                 fog  \n",
       "4          20        6.91          few clouds  "
      ]
     },
     "execution_count": 7,
     "metadata": {},
     "output_type": "execute_result"
    }
   ],
   "source": [
    "# Set the file path to import the WeatherPy_database.csv file\n",
    "file_path = \"../Weather_Database/WeatherPy_Database.csv\"\n",
    "\n",
    "# Load the CSV file into a Pandas DataFrame\n",
    "city_data_df = pd.read_csv(file_path)\n",
    "\n",
    "# Display sample data\n",
    "city_data_df.head()"
   ]
  },
  {
   "cell_type": "markdown",
   "metadata": {},
   "source": [
    "## Write two input statements that prompt the user to enter their minimum and maximum temperature criteria for their vacation."
   ]
  },
  {
   "cell_type": "code",
   "execution_count": null,
   "metadata": {},
   "outputs": [],
   "source": [
    "# Prompt the user to enter the minimum temperature criteria\n",
    "min_temp = float(input(\"What is the minimum temperature you would like for your trip?\"))\n",
    "\n",
    "# Prompt the user to enter the maximum temperature criteria\n",
    "max_temp = float(input(\"What is the maximum temperature you would like for your trip?\"))"
   ]
  },
  {
   "cell_type": "markdown",
   "metadata": {},
   "source": [
    "## Create a new Pandas DataFrame by using the `loc` Pandas method to filter the `city_data_df` DataFrame for temperature criteria  collected."
   ]
  },
  {
   "cell_type": "code",
   "execution_count": null,
   "metadata": {},
   "outputs": [],
   "source": [
    "# Filter the city_data_df DataFrame to find the cities that fit the criteria using the loc Pandas function\n",
    "preferred_cities_df = city_data_df.loc[(city_data_df[\"Max Temp\"] <= max_temp) & \\\n",
    "                                       (city_data_df[\"Max Temp\"] >= min_temp)] \n",
    "                                    \n",
    "# Display sample data\n",
    "preferred_cities_df.head(10)"
   ]
  },
  {
   "cell_type": "markdown",
   "metadata": {},
   "source": [
    "## Create a new Pandas DataFrame named `clean_travel_cities` by using the Pandas `dropna` function on the `preferred_cities_df` to drop any empty rows."
   ]
  },
  {
   "cell_type": "code",
   "execution_count": null,
   "metadata": {},
   "outputs": [],
   "source": [
    "# Drop any empty rows in the preferred_cities_df DataFrame and create a new DataFrame.\n",
    "clean_travel_cities = preferred_cities_df.dropna()\n",
    "\n",
    "# Display sample data\n",
    "clean_travel_cities.count()"
   ]
  },
  {
   "cell_type": "markdown",
   "metadata": {},
   "source": [
    "## Use the `copy` Pandas function to create a new DataFrame, called `hotel_df`, by copying the following columns from the `clean_travel_cities` DataFrame: \"City\", \"Country\", \"Max Temp\", \"Current Description\", \"Lat\", \"Lng\"."
   ]
  },
  {
   "cell_type": "code",
   "execution_count": null,
   "metadata": {},
   "outputs": [],
   "source": [
    "# Create DataFrame called hotel_df by copying some columns from the clean_travel_cities DataFrame.\n",
    "hotel_df = clean_travel_cities[[\"City\", \"Country\", \"Max Temp\", \"Current Description\", \"Lat\", \"Lng\"]].copy()\n",
    "\n",
    "\n",
    "# Display sample data\n",
    "hotel_df"
   ]
  },
  {
   "cell_type": "markdown",
   "metadata": {},
   "source": [
    "## Add a new empty column named `Hotel Name` to the `hotel_df` DataFrame."
   ]
  },
  {
   "cell_type": "code",
   "execution_count": null,
   "metadata": {},
   "outputs": [],
   "source": [
    "# Add a new empty column, \"Hotel Name\", to the hotel_df DataFrame\n",
    "hotel_df[\"Hotel Name\"] = \"\"\n",
    "\n",
    "# Display sample data\n",
    "hotel_df"
   ]
  },
  {
   "cell_type": "markdown",
   "metadata": {},
   "source": [
    "## Review the hotel search parameters provided. These parameters are the same we used in this module; you'll use them to search for a hotel for each city."
   ]
  },
  {
   "cell_type": "code",
   "execution_count": null,
   "metadata": {},
   "outputs": [],
   "source": [
    "# Review the parameters to search for a hotel\n",
    "params = {\n",
    "    \"radius\": 5000,\n",
    "    \"type\": \"lodging\",\n",
    "    \"key\": g_key\n",
    "}        "
   ]
  },
  {
   "cell_type": "markdown",
   "metadata": {},
   "source": [
    "## Use a for loop to iterate through the `hotel_df` DataFrame, retrieve the latitude and longitude of each city to find the nearest hotel based on the search parameters provided, then add the hotel name to the `hotel_df` DataFrame. If a hotel isn't found, skip to the next city."
   ]
  },
  {
   "cell_type": "code",
   "execution_count": null,
   "metadata": {},
   "outputs": [],
   "source": [
    "# Iterate through the hotel DataFrame \n",
    "for index, row in hotel_df.iterrows():\n",
    "    # Fetch latitude and longitude from the DataFrame\n",
    "    lat = row[\"Lat\"]\n",
    "    lng = row[\"Lng\"]\n",
    "    \n",
    "    # Add the latitude and longitude as parameters to the params dictionary\n",
    "    params[\"location\"] = f\"{lat},{lng}\"\n",
    "    \n",
    "    # Set up the base URL for the Google Directions API to get JSON data\n",
    "    base_url = \"https://maps.googleapis.com/maps/api/place/nearbysearch/json\"\n",
    "\n",
    "    # Make an API request and retrieve the JSON data from the hotel search\n",
    "    hotels = requests.get(base_url, params=params).json()\n",
    "    \n",
    "    # Get the first hotel from the results and store the name, if a hotel isn't found skip the city\n",
    "    try:\n",
    "        hotel_df.loc[index, \"Hotel Name\"] = hotels[\"results\"][0][\"name\"]\n",
    "    except (IndexError):\n",
    "        print(\"Hotel not found... skipping.\")"
   ]
  },
  {
   "cell_type": "code",
   "execution_count": null,
   "metadata": {},
   "outputs": [],
   "source": [
    "# Display sample data\n",
    "hotel_df.head(10)"
   ]
  },
  {
   "cell_type": "markdown",
   "metadata": {},
   "source": [
    "## Drop any rows in the `hotel_df` DataFrame where a hotel name is not found and store the resulting data into a new DataFrame named `clean_hotel_df`."
   ]
  },
  {
   "cell_type": "code",
   "execution_count": null,
   "metadata": {},
   "outputs": [],
   "source": [
    "# Drop the rows where there is no Hotel Name.\n",
    "clean_hotel_df = hotel_df[\"Hotel Name\"==null].dropna()\n",
    "\n",
    "# Display sample data\n",
    "# YOUR CODE HERE"
   ]
  },
  {
   "cell_type": "markdown",
   "metadata": {},
   "source": [
    "**Note:** If the resulting DataFrame is empty, uncomment the following code to load sample data into the `clean_hotel_df`."
   ]
  },
  {
   "cell_type": "code",
   "execution_count": null,
   "metadata": {},
   "outputs": [],
   "source": [
    "# In case of an empty DataFrame, load the sample data provided\n",
    "# clean_hotel_df = pd.read_csv(\"WeatherPy_vacation-backup.csv\")\n",
    "# clean_hotel_df.head(10)"
   ]
  },
  {
   "cell_type": "markdown",
   "metadata": {},
   "source": [
    "## Create an CSV file to store the `clean_hotel_df` DataFrame as `WeatherPy_vacation.csv` in the Vacation_Search folder."
   ]
  },
  {
   "cell_type": "code",
   "execution_count": null,
   "metadata": {},
   "outputs": [],
   "source": [
    "# Set the file name.\n",
    "output_data_file = # YOUR CODE HERE\n",
    "\n",
    "# Create a CSV file by using the clean_hotel_df DataFrame\n",
    "# YOUR CODE HERE"
   ]
  },
  {
   "cell_type": "markdown",
   "metadata": {},
   "source": [
    "### Review the formatting template provided that you'll use to add an information box to each marker in the map.\n",
    "\n",
    "In the pop-up for each city you'll add: \n",
    "\n",
    "1. The city name\n",
    "\n",
    "2. The country code\n",
    "\n",
    "3. The weather description and maximum temperature for the city"
   ]
  },
  {
   "cell_type": "code",
   "execution_count": null,
   "metadata": {},
   "outputs": [],
   "source": [
    "# Review the formatting template provided\n",
    "info_box_template = \"\"\"\n",
    "<dl>\n",
    "<dt>Hotel Name</dt><dd>{Hotel Name}</dd>\n",
    "<dt>City</dt><dd>{City}</dd>\n",
    "<dt>Country</dt><dd>{Country}</dd>\n",
    "<dt>Current Weather</dt><dd>{Current Description} and {Max Temp} °F</dd>\n",
    "</dl>\n",
    "\"\"\""
   ]
  },
  {
   "cell_type": "markdown",
   "metadata": {},
   "source": [
    "## Review the provided list comprehension code to retrieve the city data from each row, which will then be added to the formatting template and saved in the `hotel_info` list."
   ]
  },
  {
   "cell_type": "code",
   "execution_count": null,
   "metadata": {},
   "outputs": [],
   "source": [
    "# Get the data from each row in the clean_hotel_df DataFrame, add it to the formatting template, and store the data in a list.\n",
    "hotel_info = [info_box_template.format(**row) for index, row in clean_hotel_df.iterrows()]\n",
    "\n",
    "# Display sample data\n",
    "hotel_info[:10]"
   ]
  },
  {
   "cell_type": "markdown",
   "metadata": {},
   "source": [
    "## Use the provided code snippet to retrieve the latitude and longitude from each row and store them in a new DataFrame called `locations`."
   ]
  },
  {
   "cell_type": "code",
   "execution_count": null,
   "metadata": {},
   "outputs": [],
   "source": [
    "# Get the latitude and longitude from each row and store in a new DataFrame.\n",
    "locations = clean_hotel_df[[\"Lat\", \"Lng\"]]\n",
    "\n",
    "# Display sample data\n",
    "locations.head(10)"
   ]
  },
  {
   "cell_type": "markdown",
   "metadata": {},
   "source": [
    "## Refactor your previous marker layer map code to create a marker layer map that will have pop-up markers for each city on the map."
   ]
  },
  {
   "cell_type": "code",
   "execution_count": null,
   "metadata": {},
   "outputs": [],
   "source": [
    "# Add a marker layer for each city to the map. \n",
    "# YOUR CODE HERE\n",
    "\n",
    "# Create a figure to add the Google map as a layer\n",
    "# YOUR CODE HERE\n",
    "\n",
    "# Display the figure containing the map\n",
    "# YOUR CODE HERE"
   ]
  },
  {
   "cell_type": "code",
   "execution_count": null,
   "metadata": {},
   "outputs": [],
   "source": []
  }
 ],
 "metadata": {
  "kernelspec": {
   "display_name": "PythonData",
   "language": "python",
   "name": "pythondata"
  },
  "language_info": {
   "codemirror_mode": {
    "name": "ipython",
    "version": 3
   },
   "file_extension": ".py",
   "mimetype": "text/x-python",
   "name": "python",
   "nbconvert_exporter": "python",
   "pygments_lexer": "ipython3",
   "version": "3.7.13"
  },
  "latex_envs": {
   "LaTeX_envs_menu_present": true,
   "autoclose": false,
   "autocomplete": true,
   "bibliofile": "biblio.bib",
   "cite_by": "apalike",
   "current_citInitial": 1,
   "eqLabelWithNumbers": true,
   "eqNumInitial": 1,
   "hotkeys": {
    "equation": "Ctrl-E",
    "itemize": "Ctrl-I"
   },
   "labels_anchors": false,
   "latex_user_defs": false,
   "report_style_numbering": false,
   "user_envs_cfg": false
  }
 },
 "nbformat": 4,
 "nbformat_minor": 4
}
